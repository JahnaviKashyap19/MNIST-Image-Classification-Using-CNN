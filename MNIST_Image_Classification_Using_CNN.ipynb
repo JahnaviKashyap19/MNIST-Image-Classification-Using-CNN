{
  "nbformat": 4,
  "nbformat_minor": 0,
  "metadata": {
    "colab": {
      "provenance": [],
      "authorship_tag": "ABX9TyOPZAEqJFWzW7tbDageCCcK",
      "include_colab_link": true
    },
    "kernelspec": {
      "name": "python3",
      "display_name": "Python 3"
    },
    "language_info": {
      "name": "python"
    },
    "accelerator": "GPU",
    "gpuClass": "standard"
  },
  "cells": [
    {
      "cell_type": "markdown",
      "metadata": {
        "id": "view-in-github",
        "colab_type": "text"
      },
      "source": [
        "<a href=\"https://colab.research.google.com/github/JahnaviKashyap19/MNIST-Image-Classification-Using-CNN/blob/main/MNIST_Image_Classification_Using_CNN.ipynb\" target=\"_parent\"><img src=\"https://colab.research.google.com/assets/colab-badge.svg\" alt=\"Open In Colab\"/></a>"
      ]
    },
    {
      "cell_type": "markdown",
      "source": [
        "Loading MNIST Dataset"
      ],
      "metadata": {
        "id": "_YaUtAL7EgW4"
      }
    },
    {
      "cell_type": "code",
      "source": [
        "import tensorflow\n",
        "(xtrain_original, ytrain_original),(xvalid_original, yvalid_original)=tensorflow.keras.datasets.mnist.load_data()"
      ],
      "metadata": {
        "colab": {
          "base_uri": "https://localhost:8080/"
        },
        "id": "5QkGA9E4EmLj",
        "outputId": "5a451c9c-ced4-488b-8832-515e771e95db"
      },
      "execution_count": 3,
      "outputs": [
        {
          "output_type": "stream",
          "name": "stdout",
          "text": [
            "Downloading data from https://storage.googleapis.com/tensorflow/tf-keras-datasets/mnist.npz\n",
            "11490434/11490434 [==============================] - 2s 0us/step\n"
          ]
        }
      ]
    },
    {
      "cell_type": "markdown",
      "source": [
        "Checking number of images and dimensions"
      ],
      "metadata": {
        "id": "zNW9mb3OF0fG"
      }
    },
    {
      "cell_type": "code",
      "source": [
        "print(\"Training Dataset:\")\n",
        "print(xtrain_original.shape)\n",
        "print(ytrain_original.shape)\n",
        "print(\"Validation Data:\")\n",
        "print(xvalid_original.shape)\n",
        "print(yvalid_original.shape)\n"
      ],
      "metadata": {
        "colab": {
          "base_uri": "https://localhost:8080/"
        },
        "id": "VcZmBMtZF4T6",
        "outputId": "940dabf1-a946-42bb-e967-aef16b67f363"
      },
      "execution_count": 4,
      "outputs": [
        {
          "output_type": "stream",
          "name": "stdout",
          "text": [
            "Training Dataset:\n",
            "(60000, 28, 28)\n",
            "(60000,)\n",
            "Validation Data:\n",
            "(10000, 28, 28)\n",
            "(10000,)\n"
          ]
        }
      ]
    },
    {
      "cell_type": "markdown",
      "source": [
        "Visualize a random image and its label in the training set"
      ],
      "metadata": {
        "id": "g7gWKt4hGmHV"
      }
    },
    {
      "cell_type": "code",
      "source": [
        "#Taking 5th image\n",
        "print(xtrain_original[5,6:24,6:24])"
      ],
      "metadata": {
        "colab": {
          "base_uri": "https://localhost:8080/"
        },
        "id": "NAwogLKgGrCg",
        "outputId": "4a8e9cec-8b36-4691-b15f-3d5f0189a1f5"
      },
      "execution_count": 5,
      "outputs": [
        {
          "output_type": "stream",
          "name": "stdout",
          "text": [
            "[[  0   0   0   0   0   0   0  33 151 208 252 252 252 146   0   0   0   0]\n",
            " [  0   0   0   0   0  40 152 244 252 253 224 211 252 232  40   0   0   0]\n",
            " [  0   0   0  15 152 239 252 252 252 216  31  37 252 252  60   0   0   0]\n",
            " [  0   0   0  96 252 252 252 252 217  29   0  37 252 252  60   0   0   0]\n",
            " [  0   0   0 181 252 252 220 167  30   0   0  77 252 252  60   0   0   0]\n",
            " [  0   0   0  26 128  58  22   0   0   0   0 100 252 252  60   0   0   0]\n",
            " [  0   0   0   0   0   0   0   0   0   0   0 157 252 252  60   0   0   0]\n",
            " [  0   0   0   0   0   0   0 110 121 122 121 202 252 194   3   0   0   0]\n",
            " [  0   0   0   0  10  53 179 253 253 255 253 253 228  35   0   0   0   0]\n",
            " [  0   0   5  54 227 252 243 228 170 242 252 252 231 117   6   0   0   0]\n",
            " [  0   6  78 252 252 125  59   0  18 208 252 252 252 252  87   7   0   0]\n",
            " [  5 135 252 252 180  16   0  21 203 253 247 129 173 252 252 184  66  49]\n",
            " [136 252 241 106  17   0  53 200 252 216  65   0  14  72 163 241 252 252]\n",
            " [252 242  88  18  73 170 244 252 126  29   0   0   0   0   0  89 180 180]\n",
            " [252 245 205 216 252 252 252 124   3   0   0   0   0   0   0   0   0   0]\n",
            " [252 252 252 252 178 116  36   4   0   0   0   0   0   0   0   0   0   0]\n",
            " [ 93 143 121  23   6   0   0   0   0   0   0   0   0   0   0   0   0   0]\n",
            " [  0   0   0   0   0   0   0   0   0   0   0   0   0   0   0   0   0   0]]\n"
          ]
        }
      ]
    },
    {
      "cell_type": "code",
      "source": [
        "import matplotlib.pyplot as plt\n",
        "plt.matshow(xtrain_original[5])\n",
        "plt.colorbar()\n",
        "plt.show()\n"
      ],
      "metadata": {
        "colab": {
          "base_uri": "https://localhost:8080/",
          "height": 417
        },
        "id": "urABbUswIyx_",
        "outputId": "004cc392-a9e8-4345-80c9-d101c1e38fae"
      },
      "execution_count": 6,
      "outputs": [
        {
          "output_type": "display_data",
          "data": {
            "text/plain": [
              "<Figure size 480x480 with 2 Axes>"
            ],
            "image/png": "[encoded data removed]"
          },
          "metadata": {}
        }
      ]
    },
    {
      "cell_type": "code",
      "source": [
        "#Verifying that the corresponding \"true\" label is correct\n",
        "print(ytrain_original[5])"
      ],
      "metadata": {
        "colab": {
          "base_uri": "https://localhost:8080/"
        },
        "id": "p7_b9N8wKADK",
        "outputId": "086cace6-2094-4a54-d3e0-f554a3930457"
      },
      "execution_count": 7,
      "outputs": [
        {
          "output_type": "stream",
          "name": "stdout",
          "text": [
            "2\n"
          ]
        }
      ]
    },
    {
      "cell_type": "markdown",
      "source": [
        "Reshape and Normalize"
      ],
      "metadata": {
        "id": "vPaLDR48X4aL"
      }
    },
    {
      "cell_type": "code",
      "source": [
        "#Add an axis to serve as a channel\n",
        "xtrain=xtrain_original.reshape((60000,28,28,1))\n",
        "xvalid=xvalid_original.reshape((10000,28,28,1))\n",
        "#Normalize the inputs\n",
        "xtrain=xtrain/255\n",
        "xvalid=xvalid/255"
      ],
      "metadata": {
        "id": "V7zzUcFOX7DR"
      },
      "execution_count": 8,
      "outputs": []
    },
    {
      "cell_type": "code",
      "source": [
        "#Verify whether normalization worked\n",
        "plt.matshow(xtrain[5,:,:,0])\n",
        "plt.colorbar()\n",
        "plt.show()"
      ],
      "metadata": {
        "colab": {
          "base_uri": "https://localhost:8080/",
          "height": 422
        },
        "id": "uVlewErSZ3Jk",
        "outputId": "0227dc3c-9801-4147-cc6b-fa5637238a84"
      },
      "execution_count": 10,
      "outputs": [
        {
          "output_type": "display_data",
          "data": {
            "text/plain": [
              "<Figure size 480x480 with 2 Axes>"
            ],
            "image/png": "[encoded data removed]"
          },
          "metadata": {}
        }
      ]
    },
    {
      "cell_type": "markdown",
      "source": [
        "Reformat labels (One-hot encode them)"
      ],
      "metadata": {
        "id": "yo_le0d1wNtP"
      }
    },
    {
      "cell_type": "code",
      "source": [
        "print(\"Before\")\n",
        "print(ytrain_original.shape)\n",
        "print(ytrain_original[2])"
      ],
      "metadata": {
        "colab": {
          "base_uri": "https://localhost:8080/"
        },
        "id": "qwAakn8mwWZt",
        "outputId": "495720c9-23e3-4f71-8572-a2d5b3525e4e"
      },
      "execution_count": 11,
      "outputs": [
        {
          "output_type": "stream",
          "name": "stdout",
          "text": [
            "Before\n",
            "(60000,)\n",
            "4\n"
          ]
        }
      ]
    },
    {
      "cell_type": "code",
      "source": [
        "#one-hot encode to output labels\n",
        "ytrain=tensorflow.keras.utils.to_categorical(ytrain_original)\n",
        "yvalid=tensorflow.keras.utils.to_categorical(yvalid_original)\n",
        "print(\"After\")\n",
        "print(ytrain.shape)\n",
        "print(ytrain[2])"
      ],
      "metadata": {
        "colab": {
          "base_uri": "https://localhost:8080/"
        },
        "id": "IFvqcjBSwmsb",
        "outputId": "92055a05-0d8e-4a10-a726-412d81c60e10"
      },
      "execution_count": 12,
      "outputs": [
        {
          "output_type": "stream",
          "name": "stdout",
          "text": [
            "After\n",
            "(60000, 10)\n",
            "[0. 0. 0. 0. 1. 0. 0. 0. 0. 0.]\n"
          ]
        }
      ]
    },
    {
      "cell_type": "markdown",
      "source": [
        "Creating a neural network with the following architecture:\n",
        "\n",
        "\n",
        "*   First layer has 4 filters (kernels) each of size 3x3\n",
        "*   Second layer is the flatten layer\n",
        "*   Last layer is a dense layer which has set of 10 neurons- one for each of the 10 digit labels\n",
        "    \n",
        "    Notes:\n",
        "\n",
        "\n",
        "*   Only the dense layers can be used to achieve digit identification-CNNs usually deliver better accuracy\n",
        "*   Convo2D is the convolutional layer-Conv2D(filters,(filter_height,filter_width),(activation),(input_shape))\n",
        "*  The filyer will move through the image pixel by pixel (or convolves) around the image picking up values- output of 26x26\n",
        "* The last layer of 10 neurons for digits between 0 to 9 ->Each neuron will contain values between 0-1\n",
        "* We have a probability for a digit prediction-the highest probability will be the model's prediction for the digit \n",
        "\n",
        "\n",
        "\n"
      ],
      "metadata": {
        "id": "lWLtRiIkx3ri"
      }
    },
    {
      "cell_type": "code",
      "source": [
        "from tensorflow.keras.models import Sequential\n",
        "from tensorflow.keras.layers import Dense,Conv2D,Flatten\n",
        "\n",
        "model=Sequential()\n",
        "model.add(Conv2D(4,(3,3),activation='relu',input_shape=xtrain[0,: ,:, :].shape))\n",
        "#model.add(Conv2D(4,(3,3),activation='relu'))\n",
        "model.add(Flatten())\n",
        "#model.add(Dense(10,activation='relu'))\n",
        "model.add(Dense(10,activation='softmax'))\n",
        "model.summary()\n"
      ],
      "metadata": {
        "colab": {
          "base_uri": "https://localhost:8080/"
        },
        "id": "N5OpW0x34GM8",
        "outputId": "35782fad-df0c-41af-f8bc-8276c2102bfd"
      },
      "execution_count": 13,
      "outputs": [
        {
          "output_type": "stream",
          "name": "stdout",
          "text": [
            "Model: \"sequential\"\n",
            "_________________________________________________________________\n",
            " Layer (type)                Output Shape              Param #   \n",
            "=================================================================\n",
            " conv2d (Conv2D)             (None, 26, 26, 4)         40        \n",
            "                                                                 \n",
            " flatten (Flatten)           (None, 2704)              0         \n",
            "                                                                 \n",
            " dense (Dense)               (None, 10)                27050     \n",
            "                                                                 \n",
            "=================================================================\n",
            "Total params: 27,090\n",
            "Trainable params: 27,090\n",
            "Non-trainable params: 0\n",
            "_________________________________________________________________\n"
          ]
        }
      ]
    },
    {
      "cell_type": "markdown",
      "source": [
        "Compiling and Training the Model"
      ],
      "metadata": {
        "id": "nAargkcZFxJW"
      }
    },
    {
      "cell_type": "code",
      "source": [
        "model.compile(optimizer='adam',loss='categorical_crossentropy',metrics=['accuracy'])\n",
        "#Training the model\n",
        "history=model.fit(xtrain,ytrain,validation_data=(xvalid,yvalid),epochs=4,batch_size=64)"
      ],
      "metadata": {
        "colab": {
          "base_uri": "https://localhost:8080/"
        },
        "id": "wxkVSlylF2zr",
        "outputId": "1cda97cb-89ec-4da5-a723-f44075ff2f64"
      },
      "execution_count": 14,
      "outputs": [
        {
          "output_type": "stream",
          "name": "stdout",
          "text": [
            "Epoch 1/4\n",
            "938/938 [==============================] - 13s 4ms/step - loss: 0.3548 - accuracy: 0.9002 - val_loss: 0.2313 - val_accuracy: 0.9351\n",
            "Epoch 2/4\n",
            "938/938 [==============================] - 4s 4ms/step - loss: 0.2109 - accuracy: 0.9388 - val_loss: 0.1837 - val_accuracy: 0.9481\n",
            "Epoch 3/4\n",
            "938/938 [==============================] - 3s 4ms/step - loss: 0.1617 - accuracy: 0.9531 - val_loss: 0.1494 - val_accuracy: 0.9558\n",
            "Epoch 4/4\n",
            "938/938 [==============================] - 4s 4ms/step - loss: 0.1260 - accuracy: 0.9633 - val_loss: 0.1136 - val_accuracy: 0.9671\n"
          ]
        }
      ]
    },
    {
      "cell_type": "markdown",
      "source": [
        "Learning Curve"
      ],
      "metadata": {
        "id": "dSkB4EH7Gui8"
      }
    },
    {
      "cell_type": "code",
      "source": [
        "print(history.params)"
      ],
      "metadata": {
        "colab": {
          "base_uri": "https://localhost:8080/"
        },
        "id": "77BH7_DBGwdc",
        "outputId": "66e249a8-6f06-4839-8451-851f220b66a9"
      },
      "execution_count": 15,
      "outputs": [
        {
          "output_type": "stream",
          "name": "stdout",
          "text": [
            "{'verbose': 1, 'epochs': 4, 'steps': 938}\n"
          ]
        }
      ]
    },
    {
      "cell_type": "code",
      "source": [
        "plt.plot((history.history['accuracy']))\n",
        "plt.plot((history.history['val_accuracy']))\n",
        "plt.ylabel('Accuracy')\n",
        "plt.xlabel('Epoch')\n",
        "plt.legend(['training data','validation data'],loc='lower right')\n",
        "plt.show()\n"
      ],
      "metadata": {
        "colab": {
          "base_uri": "https://localhost:8080/",
          "height": 453
        },
        "id": "BhHh5_Lgt2dS",
        "outputId": "c929506a-a39c-4039-c2b7-a3c692a39b1b"
      },
      "execution_count": 16,
      "outputs": [
        {
          "output_type": "display_data",
          "data": {
            "text/plain": [
              "<Figure size 640x480 with 1 Axes>"
            ],
            "image/png": "[encoded data removed]"
          },
          "metadata": {}
        }
      ]
    },
    {
      "cell_type": "markdown",
      "source": [
        "Evaluate the model on the validation set"
      ],
      "metadata": {
        "id": "Yf8zJGXQu2oi"
      }
    },
    {
      "cell_type": "code",
      "source": [
        "validation_loss,validation_acc=model.evaluate(xvalid,yvalid)\n",
        "print('validation_acc:',validation_acc)"
      ],
      "metadata": {
        "colab": {
          "base_uri": "https://localhost:8080/"
        },
        "id": "wxsiaBA2u9s2",
        "outputId": "3ad96d80-30a3-400b-c488-84ea79e35952"
      },
      "execution_count": 17,
      "outputs": [
        {
          "output_type": "stream",
          "name": "stdout",
          "text": [
            "313/313 [==============================] - 1s 2ms/step - loss: 0.1136 - accuracy: 0.9671\n",
            "validation_acc: 0.9671000242233276\n"
          ]
        }
      ]
    },
    {
      "cell_type": "markdown",
      "source": [
        "Check what the model predicts\n",
        "\n",
        "An example of what the model has predicted and comparison with the true classes"
      ],
      "metadata": {
        "id": "amWO_DHl03Rl"
      }
    },
    {
      "cell_type": "code",
      "source": [
        "import numpy as np\n",
        "np.set_printoptions(formatter={'float':lambda x:\"{0:0.2f}\".format(x)})\n",
        "\n",
        "print(yvalid[0])\n",
        "plt.matshow(xvalid[0,:,:,0])\n",
        "plt.show()"
      ],
      "metadata": {
        "colab": {
          "base_uri": "https://localhost:8080/",
          "height": 454
        },
        "id": "pmyxWTTy05mP",
        "outputId": "86c8a67c-1144-4e55-fea3-31b4cda72c27"
      },
      "execution_count": 21,
      "outputs": [
        {
          "output_type": "stream",
          "name": "stdout",
          "text": [
            "[0.00 0.00 0.00 0.00 0.00 0.00 0.00 1.00 0.00 0.00]\n"
          ]
        },
        {
          "output_type": "display_data",
          "data": {
            "text/plain": [
              "<Figure size 480x480 with 1 Axes>"
            ],
            "image/png": "[encoded data removed]"
          },
          "metadata": {}
        }
      ]
    },
    {
      "cell_type": "markdown",
      "source": [
        "\n",
        "\n",
        "*   Visualising the predictions on the unseen data-this is going to show us how the model is predicting the images\n",
        "*   The output is an array of values where each value is associated to a digit\n",
        "\n"
      ],
      "metadata": {
        "id": "FQL5BBqC7BJq"
      }
    },
    {
      "cell_type": "code",
      "source": [
        "predictions=model.predict(xvalid)\n",
        "print(predictions[0])"
      ],
      "metadata": {
        "colab": {
          "base_uri": "https://localhost:8080/"
        },
        "id": "XrReqDAglRtp",
        "outputId": "834a5b61-e1aa-4f4c-a728-732e283d4498"
      },
      "execution_count": 22,
      "outputs": [
        {
          "output_type": "stream",
          "name": "stdout",
          "text": [
            "313/313 [==============================] - 1s 2ms/step\n",
            "[0.00 0.00 0.00 0.00 0.00 0.00 0.00 1.00 0.00 0.00]\n"
          ]
        }
      ]
    },
    {
      "cell_type": "code",
      "source": [
        "np.set_printoptions(formatter={'float':lambda x:\"{0:0.7f}\".format(x)})\n",
        "print(predictions[0])"
      ],
      "metadata": {
        "colab": {
          "base_uri": "https://localhost:8080/"
        },
        "id": "jbq0sLN-l2J5",
        "outputId": "6618fe60-21ac-4092-c4e4-176d7a2567fb"
      },
      "execution_count": 23,
      "outputs": [
        {
          "output_type": "stream",
          "name": "stdout",
          "text": [
            "[0.0000003 0.0000000 0.0000011 0.0003247 0.0000000 0.0000009 0.0000000\n",
            " 0.9996364 0.0000008 0.0000357]\n"
          ]
        }
      ]
    },
    {
      "cell_type": "markdown",
      "source": [
        "After rounding we can see the output of the prediction"
      ],
      "metadata": {
        "id": "2H5s2lLlmXYa"
      }
    },
    {
      "cell_type": "code",
      "source": [
        "print(predictions[0].round())"
      ],
      "metadata": {
        "colab": {
          "base_uri": "https://localhost:8080/"
        },
        "id": "oEN_vTfInKO7",
        "outputId": "91378ca5-a335-4247-a474-af960f0f102b"
      },
      "execution_count": 24,
      "outputs": [
        {
          "output_type": "stream",
          "name": "stdout",
          "text": [
            "[0.0000000 0.0000000 0.0000000 0.0000000 0.0000000 0.0000000 0.0000000\n",
            " 1.0000000 0.0000000 0.0000000]\n"
          ]
        }
      ]
    },
    {
      "cell_type": "markdown",
      "source": [
        "How can the model's performance be improved?\n",
        "\n",
        "\n",
        "*   Use GPU for training\n",
        "*   Increase the number of epochs\n",
        "*   Increase the number of filters and subsequent layers\n",
        "*   Add more layers into the subsequent layers\n",
        "*   Increase the number of Conv2D layers(i.e. add extra layers)\n",
        "* What is the baseline accuracy (i.e the accuracy of a random model)\n",
        "\n"
      ],
      "metadata": {
        "id": "widDvLoA9dye"
      }
    },
    {
      "cell_type": "markdown",
      "source": [
        "Visualising the learned filters of the model"
      ],
      "metadata": {
        "id": "CVYCYfvTWb82"
      }
    },
    {
      "cell_type": "code",
      "source": [
        "import matplotlib.pyplot as plt\n",
        "import numpy as np"
      ],
      "metadata": {
        "id": "fBsRAOmvWhMt"
      },
      "execution_count": 25,
      "outputs": []
    },
    {
      "cell_type": "code",
      "source": [
        "# Extract the filter weights from the model\n",
        "conv_weights = model.layers[0].get_weights()[0]  # First Conv2D layer"
      ],
      "metadata": {
        "id": "D2ba7p-vWqWP"
      },
      "execution_count": 26,
      "outputs": []
    },
    {
      "cell_type": "code",
      "source": [
        "# Reshape the filter weights\n",
        "conv_weights = np.moveaxis(conv_weights, -1, 0)  # Move the output channels axis to the front\n"
      ],
      "metadata": {
        "id": "c4D37cGGWyi0"
      },
      "execution_count": 27,
      "outputs": []
    },
    {
      "cell_type": "code",
      "source": [
        "# Visualize the filters\n",
        "fig, axs = plt.subplots(nrows=conv_weights.shape[0], ncols=1, figsize=(5, 5))\n",
        "\n",
        "for i in range(conv_weights.shape[0]):\n",
        "    axs[i].imshow(conv_weights[i, :, :], cmap='gray')\n",
        "    axs[i].axis('off')\n",
        "    axs[i].set_title(f'Filter {i+1}')\n",
        "\n",
        "plt.show()"
      ],
      "metadata": {
        "colab": {
          "base_uri": "https://localhost:8080/",
          "height": 444
        },
        "id": "Jn913z4LW12L",
        "outputId": "317add9f-439f-4834-a922-47059f2065e3"
      },
      "execution_count": 28,
      "outputs": [
        {
          "output_type": "display_data",
          "data": {
            "text/plain": [
              "<Figure size 500x500 with 4 Axes>"
            ],
            "image/png": "[encoded data removed]"
          },
          "metadata": {}
        }
      ]
    }
  ]
}